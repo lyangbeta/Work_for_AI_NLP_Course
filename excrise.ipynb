{
 "cells": [
  {
   "cell_type": "code",
   "execution_count": 29,
   "metadata": {
    "collapsed": true
   },
   "outputs": [],
   "source": [
    "def find_loc(x):\n",
    "    layer=0\n",
    "    while(1):\n",
    "        tmp=layer*2+1\n",
    "        if (tmp*tmp)>=x:\n",
    "            lable_loc=layer\n",
    "            break\n",
    "        else:\n",
    "            layer=layer+1\n",
    "    right_down=tmp*tmp\n",
    "    left_down=right_down-layer*2\n",
    "    left_up=left_down-layer*2\n",
    "    right_up=left_up-layer*2\n",
    "    if (x<=right_down) & (x>=left_down):\n",
    "        mid=right_down-layer\n",
    "        if x==mid:\n",
    "            step1=layer\n",
    "            step2=0\n",
    "            total_step=step1+step2\n",
    "            print(\"total steps:%s   : %s up\" %(total_step,step1))\n",
    "        elif x>mid:\n",
    "            step1=layer\n",
    "            step2=x-mid\n",
    "            total_step=step1+step2\n",
    "            print(\"total steps:%s   : %s up  %s left\" %(total_step,step1,step2))\n",
    "        elif x<mid:\n",
    "            step1=layer\n",
    "            step2=mid-x\n",
    "            total_step=step1+step2\n",
    "            print(\"total steps:%s   : %s up  %s right\" %(total_step,step1,step2))\n",
    "            \n",
    "    elif (x<=left_down) & (x>=left_up):\n",
    "        mid=left_down-layer\n",
    "        if x==mid:\n",
    "            step1=layer\n",
    "            step2=0\n",
    "            total_step=step1+step2\n",
    "            print(\"total steps:%s   : %s right\" %(total_step,step1))\n",
    "        elif x>mid:\n",
    "            step1=layer\n",
    "            step2=x-mid\n",
    "            total_step=step1+step2\n",
    "            print(\"total steps:%s   : %s right  %s up\" %(total_step,step1,step2))\n",
    "        elif x<mid:\n",
    "            step1=layer\n",
    "            step2=mid-x\n",
    "            total_step=step1+step2\n",
    "            print(\"total steps:%s   : %s right  %s down\" %(total_step,step1,step2))\n",
    "    \n",
    "    elif (x<=left_up) & (x>=right_up):\n",
    "        mid=left_up-layer\n",
    "        if x==mid:\n",
    "            step1=layer\n",
    "            step2=0\n",
    "            total_step=step1+step2\n",
    "            print(\"total steps:%s   : %s down\" %(total_step,step1))\n",
    "        elif x>mid:\n",
    "            step1=layer\n",
    "            step2=x-mid\n",
    "            total_step=step1+step2\n",
    "            print(\"total steps:%s   : %s down  %s right\" %(total_step,step1,step2))\n",
    "        elif x<mid:\n",
    "            step1=layer\n",
    "            step2=mid-x\n",
    "            total_step=step1+step2\n",
    "            print(\"total steps:%s   : %s down  %s left\" %(total_step,step1,step2))\n",
    "    \n",
    "    elif (x<=right_up):\n",
    "        mid=right_up-layer\n",
    "        if x==mid:\n",
    "            step1=layer\n",
    "            step2=0\n",
    "            total_step=step1+step2\n",
    "            print(\"total steps:%s   : %s left\" %(total_step,step1))\n",
    "        elif x>mid:\n",
    "            step1=layer\n",
    "            step2=x-mid\n",
    "            total_step=step1+step2\n",
    "            print(\"total steps:%s   : %s left  %s down\" %(total_step,step1,step2))\n",
    "        elif x<mid:\n",
    "            step1=layer\n",
    "            step2=mid-x\n",
    "            total_step=step1+step2\n",
    "            print(\"total steps:%s   : %s left  %s up\" %(total_step,step1,step2))\n",
    "    \n",
    "    \n",
    "        "
   ]
  },
  {
   "cell_type": "code",
   "execution_count": 47,
   "metadata": {},
   "outputs": [
    {
     "name": "stdout",
     "output_type": "stream",
     "text": [
      "total steps:4   : 2 up  2 left\n"
     ]
    }
   ],
   "source": [
    "find_loc(25)"
   ]
  },
  {
   "cell_type": "code",
   "execution_count": null,
   "metadata": {
    "collapsed": true
   },
   "outputs": [],
   "source": []
  }
 ],
 "metadata": {
  "kernelspec": {
   "display_name": "Python 3",
   "language": "python",
   "name": "python3"
  },
  "language_info": {
   "codemirror_mode": {
    "name": "ipython",
    "version": 3
   },
   "file_extension": ".py",
   "mimetype": "text/x-python",
   "name": "python",
   "nbconvert_exporter": "python",
   "pygments_lexer": "ipython3",
   "version": "3.6.3"
  }
 },
 "nbformat": 4,
 "nbformat_minor": 2
}
