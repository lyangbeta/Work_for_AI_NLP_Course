{
 "cells": [
  {
   "cell_type": "code",
   "execution_count": 23,
   "metadata": {},
   "outputs": [],
   "source": [
    "from collections import defaultdict\n",
    "from functools import lru_cache\n",
    "import random\n",
    "from functools import wraps\n",
    "import time"
   ]
  },
  {
   "cell_type": "code",
   "execution_count": 15,
   "metadata": {
    "collapsed": true
   },
   "outputs": [],
   "source": [
    "def memo(func):\n",
    "    cache = {} \n",
    "    @wraps(func)\n",
    "    def __wrap(*args, **kwargs):\n",
    "        str_key = str(args) + str(kwargs)\n",
    "        if str_key not in cache:\n",
    "            result = func(*args, **kwargs)\n",
    "            cache[str_key] = result\n",
    "        return cache[str_key]\n",
    "    return __wrap"
   ]
  },
  {
   "cell_type": "code",
   "execution_count": 16,
   "metadata": {},
   "outputs": [],
   "source": [
    "prices = defaultdict(lambda : -float('inf'))\n",
    "for i, v in enumerate([1, 5, 8, 9, 10, 17, 17, 20, 24, 30]):\n",
    "    prices[i+1] = v"
   ]
  },
  {
   "cell_type": "code",
   "execution_count": 17,
   "metadata": {},
   "outputs": [
    {
     "data": {
      "text/plain": [
       "(1, 11)"
      ]
     },
     "execution_count": 17,
     "metadata": {},
     "output_type": "execute_result"
    }
   ],
   "source": [
    "random_numbers = [(i, random.randint(-10, 20)) for i in range(10)]\n",
    "random_numbers\n",
    "max(random_numbers, key=lambda x: x[1])"
   ]
  },
  {
   "cell_type": "code",
   "execution_count": 18,
   "metadata": {},
   "outputs": [
    {
     "data": {
      "text/plain": [
       "300"
      ]
     },
     "execution_count": 18,
     "metadata": {},
     "output_type": "execute_result"
    }
   ],
   "source": [
    "solution = {}\n",
    "@memo\n",
    "def revenue(r):  \n",
    "    split, r_star = max([(0, prices[r])] + [(i, revenue(i) + revenue(r-i)) for i in range(1, r)], key=lambda x: x[1])\n",
    "    solution[r] = (split, r-split)\n",
    "    return r_star\n",
    "revenue(100)"
   ]
  },
  {
   "cell_type": "code",
   "execution_count": 19,
   "metadata": {},
   "outputs": [
    {
     "data": {
      "text/plain": [
       "'2 -> 6 -> 10'"
      ]
     },
     "execution_count": 19,
     "metadata": {},
     "output_type": "execute_result"
    }
   ],
   "source": [
    "def parse_solution(r, revenue_solution):    \n",
    "    left, right = revenue_solution[r]\n",
    "    \n",
    "    if left == 0: return [right]\n",
    "    \n",
    "    return [left] + parse_solution(right, revenue_solution)\n",
    "def pretty_solution(splits):\n",
    "    return ' -> '.join(map(str, splits))\n",
    "\n",
    "pretty_solution(parse_solution(18, solution))"
   ]
  },
  {
   "cell_type": "code",
   "execution_count": 22,
   "metadata": {},
   "outputs": [
    {
     "name": "stdout",
     "output_type": "stream",
     "text": [
      "\tHi, I am function: add\n"
     ]
    },
    {
     "data": {
      "text/plain": [
       "11"
      ]
     },
     "execution_count": 22,
     "metadata": {},
     "output_type": "execute_result"
    }
   ],
   "source": [
    "def print_hi(func):\n",
    "    def _wrap(*args, **kwargs): \n",
    "        print('\\tHi, I am function: {}'.format(func.__name__))\n",
    "        return func(*args, **kwargs)\n",
    "    return _wrap\n",
    "@print_hi\n",
    "def add(a, b): \n",
    "    return a + b\n",
    "add(1, 10)\n"
   ]
  },
  {
   "cell_type": "code",
   "execution_count": 24,
   "metadata": {},
   "outputs": [
    {
     "name": "stdout",
     "output_type": "stream",
     "text": [
      "used time: 0.0\n"
     ]
    }
   ],
   "source": [
    "start = time.time()\n",
    "revenue(30)\n",
    "print('used time: {}'.format(time.time() - start))"
   ]
  },
  {
   "cell_type": "markdown",
   "metadata": {},
   "source": [
    "# Edit_distance "
   ]
  },
  {
   "cell_type": "code",
   "execution_count": 38,
   "metadata": {},
   "outputs": [
    {
     "data": {
      "text/plain": [
       "2"
      ]
     },
     "execution_count": 38,
     "metadata": {},
     "output_type": "execute_result"
    }
   ],
   "source": [
    "@memo\n",
    "def get_edit_distance(string1, string2):\n",
    "    \n",
    "    if len(string1) == 0: return len(string2)\n",
    "    if len(string2) == 0: return len(string1)\n",
    "    \n",
    "    return min(\n",
    "        [get_edit_distance(string1[:-1], string2) + 1, \n",
    "         get_edit_distance(string1, string2[:-1]) + 1, \n",
    "         get_edit_distance(string1[:-1], string2[:-1]) + (0 if string1[-1] == string2[-1] else 2)]\n",
    "    )\n",
    "get_edit_distance('biejing', 'beijing')"
   ]
  },
  {
   "cell_type": "code",
   "execution_count": null,
   "metadata": {
    "collapsed": true
   },
   "outputs": [],
   "source": []
  }
 ],
 "metadata": {
  "kernelspec": {
   "display_name": "Python 3",
   "language": "python",
   "name": "python3"
  },
  "language_info": {
   "codemirror_mode": {
    "name": "ipython",
    "version": 3
   },
   "file_extension": ".py",
   "mimetype": "text/x-python",
   "name": "python",
   "nbconvert_exporter": "python",
   "pygments_lexer": "ipython3",
   "version": "3.6.3"
  }
 },
 "nbformat": 4,
 "nbformat_minor": 2
}
