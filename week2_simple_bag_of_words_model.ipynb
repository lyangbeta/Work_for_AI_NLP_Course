{
 "cells": [
  {
   "cell_type": "code",
   "execution_count": 1,
   "metadata": {
    "collapsed": true
   },
   "outputs": [],
   "source": [
    "import pandas as pd\n",
    "import re"
   ]
  },
  {
   "cell_type": "code",
   "execution_count": 2,
   "metadata": {},
   "outputs": [
    {
     "data": {
      "text/plain": [
       "'4578()()\\n\\\\  \\n  </>\\n'"
      ]
     },
     "execution_count": 2,
     "metadata": {},
     "output_type": "execute_result"
    }
   ],
   "source": [
    "text = 'di45ri78()(rt)\\n\\drn f \\n tt </doc>\\n'\n",
    "p1 = re.compile(u\"[a-z]\")\n",
    "text_1 = p1.sub('', text)\n",
    "text_1"
   ]
  },
  {
   "cell_type": "code",
   "execution_count": 3,
   "metadata": {
    "collapsed": true
   },
   "outputs": [],
   "source": [
    "file_0 = open('data/pro_zh_wiki_00',mode='r',encoding='utf-8')\n",
    "file_1 = open('data/pro_zh_wiki_01',mode='r',encoding='utf-8')\n",
    "text_0 = file_0.readlines()\n",
    "text_1 = file_1.readlines()\n",
    "file_0.close()\n",
    "file_1.close()"
   ]
  },
  {
   "cell_type": "code",
   "execution_count": 4,
   "metadata": {},
   "outputs": [
    {
     "data": {
      "text/plain": [
       "441472442"
      ]
     },
     "execution_count": 4,
     "metadata": {},
     "output_type": "execute_result"
    }
   ],
   "source": [
    "text = text_0+text_1\n",
    "dic = ''.join(text)\n",
    "len(dic)"
   ]
  },
  {
   "cell_type": "markdown",
   "metadata": {},
   "source": [
    "$$Unigram¶ $$\n",
    "$$P(W_oW_1W_2Wn) = P(W_o) *P(W_1) * P(W_2)*P(W_n) $$\n",
    "\n",
    "$$2-Gram¶$$\n",
    "$$ Pr(w_ow_1w_2...w_n) = Pr(w_1 | w_0) \\cdot Pr(w_2 | w_1) ... \\cdot Pr(w_n | w_{n-1})  $$\n",
    "$$ Pr(w_1 | w_0) = \\frac{Pr(w_1 w_0)}{Pr(w_0)} $$"
   ]
  },
  {
   "cell_type": "code",
   "execution_count": 5,
   "metadata": {
    "collapsed": true
   },
   "outputs": [],
   "source": [
    "from collections import Counter\n",
    "from functools import reduce\n",
    "from operator import mul, add"
   ]
  },
  {
   "cell_type": "code",
   "execution_count": 6,
   "metadata": {
    "collapsed": true
   },
   "outputs": [],
   "source": [
    "def tokenize(string): \n",
    "    return ''.join(re.findall('[\\w|\\d]+', string))"
   ]
  },
  {
   "cell_type": "code",
   "execution_count": 7,
   "metadata": {
    "collapsed": true
   },
   "outputs": [],
   "source": [
    "def get_pram_split(dic,gram_length):\n",
    "    gram_counts = Counter(dic[i:i+gram_length] for i in range(len(dic) - gram_length))\n",
    "    return gram_counts"
   ]
  },
  {
   "cell_type": "code",
   "execution_count": 8,
   "metadata": {},
   "outputs": [
    {
     "data": {
      "text/plain": [
       "[('，', 15566659),\n",
       " ('的', 9972240),\n",
       " ('。', 9106752),\n",
       " ('1', 7472419),\n",
       " ('\"', 6625737),\n",
       " ('0', 5905550),\n",
       " ('2', 5165412),\n",
       " ('=', 4159276),\n",
       " ('年', 4124627),\n",
       " ('9', 4030322)]"
      ]
     },
     "execution_count": 8,
     "metadata": {},
     "output_type": "execute_result"
    }
   ],
   "source": [
    "one_gram_counts = get_pram_split(dic,1)\n",
    "one_gram_counts.most_common(10)"
   ]
  },
  {
   "cell_type": "code",
   "execution_count": 9,
   "metadata": {},
   "outputs": [
    {
     "data": {
      "text/plain": [
       "[('=\"', 3111460),\n",
       " ('\"=', 2075073),\n",
       " ('20', 1683234),\n",
       " ('19', 1577953),\n",
       " ('00', 1298046),\n",
       " ('..', 1056849),\n",
       " (':.', 1032851),\n",
       " ('\":', 1031468),\n",
       " ('.?', 1029985),\n",
       " ('?=', 1029944)]"
      ]
     },
     "execution_count": 9,
     "metadata": {},
     "output_type": "execute_result"
    }
   ],
   "source": [
    "two_gram_counts = get_pram_split(dic,2)\n",
    "two_gram_counts.most_common(10)"
   ]
  },
  {
   "cell_type": "code",
   "execution_count": 10,
   "metadata": {
    "collapsed": true
   },
   "outputs": [],
   "source": [
    "def get_probability_from_counts(count):\n",
    "    all_occurences = sum(count.values())\n",
    "    def get_prob(item): \n",
    "        return count[item] / all_occurences\n",
    "    return get_prob"
   ]
  },
  {
   "cell_type": "code",
   "execution_count": 11,
   "metadata": {
    "collapsed": true
   },
   "outputs": [],
   "source": [
    "get_char_prob = get_probability_from_counts(one_gram_counts)\n",
    "get_pair_prob = get_probability_from_counts(two_gram_counts)"
   ]
  },
  {
   "cell_type": "code",
   "execution_count": 12,
   "metadata": {
    "collapsed": true
   },
   "outputs": [],
   "source": [
    "def get_2_gram_prob(word, prev):\n",
    "    if get_pair_prob(word+prev) > 0: \n",
    "        return get_pair_prob(word+prev) / get_char_prob(prev)\n",
    "    else:\n",
    "        return get_char_prob(word)"
   ]
  },
  {
   "cell_type": "code",
   "execution_count": 13,
   "metadata": {
    "collapsed": true
   },
   "outputs": [],
   "source": [
    "def prob_of_string(string,gram_length):\n",
    "    if gram_length ==1:\n",
    "        return reduce(mul, [get_char_prob(c) for c in string])\n",
    "    elif gram_length ==2:\n",
    "        probablities = []\n",
    "        for i, c in enumerate(string):\n",
    "            prev = '<s>' if i == 0 else string[i-1]\n",
    "            probablities.append(get_2_gram_prob(c, prev))\n",
    "        return reduce(mul, probablities)\n",
    "    else:\n",
    "        print('gram_length error')\n",
    "        return"
   ]
  },
  {
   "cell_type": "code",
   "execution_count": 14,
   "metadata": {
    "collapsed": true
   },
   "outputs": [],
   "source": [
    "def get_probability_prefromance(language_model_func, pairs,gram_length):\n",
    "    for (p1, p2) in pairs:\n",
    "        print('*'*18)\n",
    "        print('\\t\\t {} with probability {}'.format(p1, language_model_func(tokenize(p1),gram_length)))\n",
    "        print('\\t\\t {} with probability {}'.format(p2, language_model_func(tokenize(p2),gram_length)))"
   ]
  },
  {
   "cell_type": "code",
   "execution_count": 15,
   "metadata": {
    "collapsed": true
   },
   "outputs": [],
   "source": [
    "pair = \"\"\"前天晚上吃晚饭的时候\n",
    "前天晚上吃早饭的时候\"\"\".split('\\n')\n",
    "\n",
    "pair2 = \"\"\"正是一个好看的小猫\n",
    "真是一个好看的小猫\"\"\".split('\\n')\n",
    "\n",
    "pair3 = \"\"\"我无言以对，简直\n",
    "我简直无言以对\"\"\".split('\\n')\n",
    "\n",
    "pairs = [pair, pair2, pair3]"
   ]
  },
  {
   "cell_type": "code",
   "execution_count": 16,
   "metadata": {},
   "outputs": [
    {
     "name": "stdout",
     "output_type": "stream",
     "text": [
      "******************\n",
      "\t\t 前天晚上吃晚饭的时候 with probability 3.794135938930681e-33\n",
      "\t\t 前天晚上吃早饭的时候 with probability 7.642373144714525e-33\n",
      "******************\n",
      "\t\t 正是一个好看的小猫 with probability 1.7028656272430964e-26\n",
      "\t\t 真是一个好看的小猫 with probability 5.4148708183350224e-27\n",
      "******************\n",
      "\t\t 我无言以对，简直 with probability 8.250759781675059e-23\n",
      "\t\t 我简直无言以对 with probability 8.250759781675057e-23\n"
     ]
    }
   ],
   "source": [
    "get_probability_prefromance(prob_of_string, pairs,1)"
   ]
  },
  {
   "cell_type": "code",
   "execution_count": 17,
   "metadata": {},
   "outputs": [
    {
     "name": "stdout",
     "output_type": "stream",
     "text": [
      "******************\n",
      "\t\t 前天晚上吃晚饭的时候 with probability 1.5935503139766104e-33\n",
      "\t\t 前天晚上吃早饭的时候 with probability 1.1867303075229088e-34\n",
      "******************\n",
      "\t\t 正是一个好看的小猫 with probability 9.72439908858432e-27\n",
      "\t\t 真是一个好看的小猫 with probability 9.057076964894018e-27\n",
      "******************\n",
      "\t\t 我无言以对，简直 with probability 1.4112642911854104e-25\n",
      "\t\t 我简直无言以对 with probability 1.9633623601780332e-25\n"
     ]
    }
   ],
   "source": [
    "get_probability_prefromance(prob_of_string, pairs,2)"
   ]
  },
  {
   "cell_type": "code",
   "execution_count": null,
   "metadata": {
    "collapsed": true
   },
   "outputs": [],
   "source": []
  }
 ],
 "metadata": {
  "kernelspec": {
   "display_name": "Python 3",
   "language": "python",
   "name": "python3"
  },
  "language_info": {
   "codemirror_mode": {
    "name": "ipython",
    "version": 3
   },
   "file_extension": ".py",
   "mimetype": "text/x-python",
   "name": "python",
   "nbconvert_exporter": "python",
   "pygments_lexer": "ipython3",
   "version": "3.6.3"
  }
 },
 "nbformat": 4,
 "nbformat_minor": 2
}
