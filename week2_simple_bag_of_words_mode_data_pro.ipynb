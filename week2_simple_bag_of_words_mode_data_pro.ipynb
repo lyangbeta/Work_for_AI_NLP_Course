{
 "cells": [
  {
   "cell_type": "code",
   "execution_count": 4,
   "metadata": {
    "collapsed": true
   },
   "outputs": [],
   "source": [
    "import pandas as pd\n",
    "import re"
   ]
  },
  {
   "cell_type": "code",
   "execution_count": 6,
   "metadata": {},
   "outputs": [],
   "source": [
    "def wiki_doc_pro(infile,outfile):\n",
    "    in_file = open(infile,mode='r',encoding='utf-8')\n",
    "    out_file = open(outfile,mode='w',encoding='utf-8')\n",
    "    p1 = re.compile(u\"[(][)]\")\n",
    "    p2 = re.compile(u\"[\\\\n]\")\n",
    "    p3 = re.compile(u\"[' ']\")\n",
    "    p4 = re.compile(u\"[</doc>']\")\n",
    "    p5 = re.compile(u\"[a-z]\")\n",
    "    with in_file:\n",
    "        for line in in_file:\n",
    "            if not line:\n",
    "                continue\n",
    "            line = p1.sub('', line)\n",
    "            line = p2.sub('', line)\n",
    "            line = p3.sub('', line)\n",
    "            line = p4.sub('', line)\n",
    "            line = p5.sub('', line)\n",
    "            out_file.write(line)\n",
    "    in_file.close()\n",
    "    out_file.close()"
   ]
  },
  {
   "cell_type": "code",
   "execution_count": 7,
   "metadata": {},
   "outputs": [],
   "source": [
    "wiki_doc_pro('data/zh_wiki_00','data/pro_zh_wiki_00')\n",
    "wiki_doc_pro('data/zh_wiki_01','data/pro_zh_wiki_01')"
   ]
  }
 ],
 "metadata": {
  "kernelspec": {
   "display_name": "Python 3",
   "language": "python",
   "name": "python3"
  },
  "language_info": {
   "codemirror_mode": {
    "name": "ipython",
    "version": 3
   },
   "file_extension": ".py",
   "mimetype": "text/x-python",
   "name": "python",
   "nbconvert_exporter": "python",
   "pygments_lexer": "ipython3",
   "version": "3.6.3"
  }
 },
 "nbformat": 4,
 "nbformat_minor": 2
}
